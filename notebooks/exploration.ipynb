{
 "cells": [
  {
   "cell_type": "code",
   "execution_count": null,
   "metadata": {},
   "outputs": [],
   "source": [
    "import sys\n",
    "\n",
    "# If you're running your .py file or .ipynb file from a\n",
    "# different location than the root of your repo,\n",
    "# Python will not find the location of your package.\n",
    "\n",
    "# So you need to add the path to the sys.path :\n",
    "\n",
    "sys.path.append('/home/virgilus/Code/project_template/')\n",
    "#sys.path.append('../') # An other method with relative path\n",
    "\n",
    "from project_template import process_data\n",
    "\n",
    "process_data.clean_data()"
   ]
  }
 ],
 "metadata": {
  "language_info": {
   "name": "python"
  }
 },
 "nbformat": 4,
 "nbformat_minor": 2
}
